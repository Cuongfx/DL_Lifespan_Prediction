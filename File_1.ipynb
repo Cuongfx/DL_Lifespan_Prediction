{
 "cells": [
  {
   "cell_type": "markdown",
   "metadata": {},
   "source": [
    "# Process Raw Data to Clean Data"
   ]
  },
  {
   "cell_type": "markdown",
   "metadata": {},
   "source": [
    "## All necessary Process"
   ]
  },
  {
   "cell_type": "code",
   "execution_count": 6,
   "metadata": {},
   "outputs": [],
   "source": [
    "import os\n",
    "import pandas as pd\n",
    "\n",
    "def process_battery_data(input_file_path, output_file_path):\n",
    "    # Load the Excel file\n",
    "    xls = pd.ExcelFile(input_file_path)\n",
    "\n",
    "    # Load the specific sheets into DataFrames\n",
    "    qc_ex_df = pd.read_excel(xls, 'Qc_ex', index_col=0)\n",
    "    voltage_df = pd.read_excel(xls, 'V_ex', index_col=0)\n",
    "    qd_ex_df = pd.read_excel(xls, 'Qd_ex', index_col=0)\n",
    "\n",
    "    # Create empty lists for new sheets\n",
    "    qc_new_data = []\n",
    "    voltage_new_data = []\n",
    "    qd_ex_new_data = []\n",
    "\n",
    "    # Process each row in Qc_ex to find the first maximum value position\n",
    "    for index, row in qc_ex_df.iterrows():\n",
    "        max_position = row.idxmax()  # Get the column name of the first maximum value\n",
    "        max_index = row.index.get_loc(max_position)  # Get the positional index of the max value\n",
    "        \n",
    "        # Slice the row from the max position to the end and store in new DataFrame\n",
    "        qc_new_data.append(row.iloc[max_index:].values)\n",
    "        \n",
    "        # Use the same position to slice the corresponding rows in voltage and qd_ex DataFrames\n",
    "        voltage_new_data.append(voltage_df.loc[index].iloc[max_index:].values)\n",
    "        qd_ex_new_data.append(qd_ex_df.loc[index].iloc[max_index:].values)\n",
    "\n",
    "    # Convert lists to DataFrames\n",
    "    qc_new_df = pd.DataFrame(qc_new_data, index=qc_ex_df.index)\n",
    "    voltage_new_df = pd.DataFrame(voltage_new_data, index=qc_ex_df.index)\n",
    "    qd_ex_new_df = pd.DataFrame(qd_ex_new_data, index=qc_ex_df.index)\n",
    "\n",
    "    # Create a new Excel writer object and save the new DataFrames to it\n",
    "    with pd.ExcelWriter(output_file_path) as writer:\n",
    "        qc_new_df.to_excel(writer, sheet_name='Qc')\n",
    "        voltage_new_df.to_excel(writer, sheet_name='voltage')\n",
    "        qd_ex_new_df.to_excel(writer, sheet_name='Qd_ex')\n",
    "\n",
    "def process_all_files_in_directory(input_directory, output_directory):\n",
    "    # Ensure the output directory exists\n",
    "    os.makedirs(output_directory, exist_ok=True)\n",
    "    \n",
    "    # Iterate over all files in the input directory\n",
    "    for filename in os.listdir(input_directory):\n",
    "        if filename.endswith('.xlsx'):\n",
    "            input_file_path = os.path.join(input_directory, filename)\n",
    "            output_file_name = os.path.splitext(filename)[0] + '_new.xlsx'\n",
    "            output_file_path = os.path.join(output_directory, output_file_name)\n",
    "            \n",
    "            # Process each file\n",
    "            process_battery_data(input_file_path, output_file_path)\n",
    "\n",
    "# Function to process each file\n",
    "def process_file(file_path, output_directory_path):\n",
    "    xls = pd.ExcelFile(file_path)\n",
    "\n",
    "    # Load the sheets into DataFrames\n",
    "    df_voltage = pd.read_excel(xls, 'voltage')\n",
    "    df_Qd_ex = pd.read_excel(xls, 'Qd_ex')\n",
    "\n",
    "    # Removing the first unnamed column if it exists\n",
    "    if df_voltage.columns[0].startswith('Unnamed'):\n",
    "        df_voltage = df_voltage.iloc[:, 1:]\n",
    "\n",
    "    if df_Qd_ex.columns[0].startswith('Unnamed'):\n",
    "        df_Qd_ex = df_Qd_ex.iloc[:, 1:]\n",
    "\n",
    "    # Function to filter and rearrange data based on voltage range\n",
    "    def filter_and_rearrange(df_voltage, df_Qd_ex, min_voltage=2.19, max_voltage=2.401):\n",
    "        filtered_voltage = []\n",
    "        filtered_Qd_ex = []\n",
    "        \n",
    "        for i in range(df_voltage.shape[0]):\n",
    "            voltage_row = df_voltage.iloc[i]\n",
    "            valid_indices = voltage_row[(voltage_row >= min_voltage) & (voltage_row <= max_voltage)].index\n",
    "            \n",
    "            if not valid_indices.empty:\n",
    "                first_valid_idx = valid_indices[0]\n",
    "                last_valid_idx = valid_indices[-1]\n",
    "                \n",
    "                filtered_voltage.append(voltage_row[first_valid_idx:last_valid_idx + 1].reset_index(drop=True))\n",
    "                filtered_Qd_ex.append(df_Qd_ex.iloc[i, first_valid_idx:last_valid_idx + 1].reset_index(drop=True))\n",
    "            else:\n",
    "                filtered_voltage.append(pd.Series())\n",
    "                filtered_Qd_ex.append(pd.Series())\n",
    "        \n",
    "        filtered_voltage_df = pd.DataFrame(filtered_voltage).fillna('')\n",
    "        filtered_Qd_ex_df = pd.DataFrame(filtered_Qd_ex).fillna('')\n",
    "        \n",
    "        return filtered_voltage_df, filtered_Qd_ex_df\n",
    "\n",
    "    # Apply the function to filter and rearrange the data\n",
    "    filtered_voltage_df, filtered_Qd_ex_df = filter_and_rearrange(df_voltage, df_Qd_ex)\n",
    "\n",
    "    # # Delete all rows starting from the 201st row in both sheets\n",
    "    # filtered_voltage_df = filtered_voltage_df.iloc[:200]\n",
    "    # filtered_Qd_ex_df = filtered_Qd_ex_df.iloc[:200]\n",
    "\n",
    "    # Construct the output file path\n",
    "    output_file_path = os.path.join(output_directory_path, os.path.basename(file_path).replace('.xlsx', '_processed.xlsx'))\n",
    "\n",
    "    # Save the processed DataFrames to new sheets in the same Excel file\n",
    "    with pd.ExcelWriter(output_file_path, engine='xlsxwriter') as writer:\n",
    "        filtered_voltage_df.to_excel(writer, sheet_name='Filtered Voltage', index=False)\n",
    "        filtered_Qd_ex_df.to_excel(writer, sheet_name='Filtered Qd_ex', index=False)\n",
    "\n",
    "    # Reload the processed file for further extension\n",
    "    xls = pd.ExcelFile(output_file_path)\n",
    "    df_voltage = pd.read_excel(xls, 'Filtered Voltage')\n",
    "    df_qd_ex = pd.read_excel(xls, 'Filtered Qd_ex')\n",
    "\n",
    "    # Function to extend rows to maxi_columm\n",
    "    def extend_row(row, maxi_columm):\n",
    "        current_length = len(row.dropna())\n",
    "        if current_length == 0:  # If the row is empty, return the row as is\n",
    "            return row\n",
    "        extended_row = pd.Series(row.dropna().values).reindex(range(maxi_columm))\n",
    "        extended_row.interpolate(method='linear', inplace=True)\n",
    "        extended_row.ffill(inplace=True)\n",
    "        extended_row.bfill(inplace=True)\n",
    "        return extended_row\n",
    "\n",
    "    # Find the row with the maximum columns in Sheet voltage\n",
    "    maxi_columm_voltage = df_voltage.notna().sum(axis=1).max()\n",
    "\n",
    "    # Apply the function to each row in Sheet voltage\n",
    "    df_voltage_extended = df_voltage.apply(lambda row: extend_row(row, maxi_columm_voltage), axis=1)\n",
    "\n",
    "    # Find the row with the maximum columns in Sheet Qd_ex\n",
    "    maxi_columm_qd_ex = df_qd_ex.notna().sum(axis=1).max()\n",
    "\n",
    "    # Apply the function to each row in Sheet Qd_ex\n",
    "    df_qd_ex_extended = df_qd_ex.apply(lambda row: extend_row(row, maxi_columm_qd_ex), axis=1)\n",
    "\n",
    "    # Construct the final output file path\n",
    "    final_output_file_path = os.path.join(output_directory_path, os.path.basename(file_path).replace('.xlsx', '_extended.xlsx'))\n",
    "    \n",
    "    # Save the modified DataFrames back to an Excel file\n",
    "    with pd.ExcelWriter(final_output_file_path) as writer:\n",
    "        df_voltage_extended.to_excel(writer, sheet_name='Voltage', index=False)\n",
    "        df_qd_ex_extended.to_excel(writer, sheet_name='Qd', index=False)\n",
    "\n",
    "    # print(\"The extended file has been saved to:\", final_output_file_path)\n",
    "\n",
    "\n"
   ]
  },
  {
   "cell_type": "code",
   "execution_count": 7,
   "metadata": {},
   "outputs": [],
   "source": [
    "\n",
    "def delete_columns_batch_2(input_folder, output_folder):\n",
    "    # Ensure the output directory exists\n",
    "    os.makedirs(output_folder, exist_ok=True)\n",
    "\n",
    "    # Process each file in the input folder\n",
    "    for filename in os.listdir(input_folder):\n",
    "        if filename.endswith('.xlsx'):\n",
    "            file_path = os.path.join(input_folder, filename)\n",
    "            cleaned_file_path = os.path.join(output_folder, filename)\n",
    "\n",
    "            # Load the Excel file\n",
    "            excel_data = pd.ExcelFile(file_path)\n",
    "\n",
    "            # Load the specific sheets 'voltage' and 'Qd_ex'\n",
    "            voltage_df = pd.read_excel(file_path, sheet_name='voltage')\n",
    "            qd_ex_df = pd.read_excel(file_path, sheet_name='Qd_ex')\n",
    "\n",
    "            # Drop columns starting from the 374th to the end\n",
    "            voltage_df_cleaned = voltage_df.iloc[:, :373]\n",
    "            qd_ex_df_cleaned = qd_ex_df.iloc[:, :373]\n",
    "\n",
    "            # Save the cleaned data back to a new Excel file\n",
    "            with pd.ExcelWriter(cleaned_file_path, engine='openpyxl') as writer:\n",
    "                voltage_df_cleaned.to_excel(writer, sheet_name='voltage', index=False)\n",
    "                qd_ex_df_cleaned.to_excel(writer, sheet_name='Qd_ex', index=False)\n",
    "                # Also write the original 'Qc' sheet\n",
    "                excel_data.parse('Qc').to_excel(writer, sheet_name='Qc', index=False)\n",
    "\n",
    "            # print(f\"Processed and saved: {cleaned_file_path}\")\n",
    "\n",
    "    print(\"Processing complete.\")\n",
    "\n",
    "def delete_columns_batch_3_9(input_folder, output_folder):\n",
    "    # Ensure the output directory exists\n",
    "    os.makedirs(output_folder, exist_ok=True)\n",
    "\n",
    "    # Process each file in the input folder\n",
    "    for filename in os.listdir(input_folder):\n",
    "        if filename.endswith('.xlsx'):\n",
    "            file_path = os.path.join(input_folder, filename)\n",
    "            cleaned_file_path = os.path.join(output_folder, filename)\n",
    "\n",
    "            # Load the Excel file\n",
    "            excel_data = pd.ExcelFile(file_path)\n",
    "\n",
    "            # Load the specific sheets 'voltage' and 'Qd_ex'\n",
    "            voltage_df = pd.read_excel(file_path, sheet_name='voltage')\n",
    "            qd_ex_df = pd.read_excel(file_path, sheet_name='Qd_ex')\n",
    "\n",
    "            # Drop columns starting from the 313th to the end\n",
    "            voltage_df_cleaned = voltage_df.iloc[:, :315]\n",
    "            qd_ex_df_cleaned = qd_ex_df.iloc[:, :315]\n",
    "\n",
    "            # Save the cleaned data back to a new Excel file\n",
    "            with pd.ExcelWriter(cleaned_file_path, engine='openpyxl') as writer:\n",
    "                voltage_df_cleaned.to_excel(writer, sheet_name='voltage', index=False)\n",
    "                qd_ex_df_cleaned.to_excel(writer, sheet_name='Qd_ex', index=False)\n",
    "                # Also write the original 'Qc' sheet\n",
    "                excel_data.parse('Qc').to_excel(writer, sheet_name='Qc', index=False)\n",
    "\n",
    "            # print(f\"Processed and saved: {cleaned_file_path}\")\n",
    "\n",
    "    print(\"Processing complete.\")\n",
    "\n",
    "def process_batch(input_directory_path, output_directory_path):\n",
    "    for filename in os.listdir(input_directory_path):\n",
    "        if filename.endswith('.xlsx') and not filename.endswith('_processed.xlsx') and not filename.endswith('_extended.xlsx'):\n",
    "            file_path = os.path.join(input_directory_path, filename)\n",
    "            process_file(file_path, output_directory_path)\n",
    "    print(f\"Folder {input_directory_path} processed successfully.\")\n",
    "    \n",
    "def process_final_file(directory):\n",
    "    # Iterate through each file in the directory\n",
    "    for filename in os.listdir(directory):\n",
    "        if filename.endswith(\".xlsx\"):  # Process only Excel files\n",
    "            file_path = os.path.join(directory, filename)\n",
    "            excel_file = pd.ExcelFile(file_path)\n",
    "\n",
    "            # Initialize a dictionary to hold the modified dataframes\n",
    "            sheets_dict = {}\n",
    "\n",
    "            # Iterate through each sheet and modify it\n",
    "            for sheet_name in excel_file.sheet_names:\n",
    "                # Load the sheet into a DataFrame\n",
    "                df = pd.read_excel(file_path, sheet_name=sheet_name)\n",
    "                # Drop columns from 130th to the end\n",
    "                df = df.iloc[:, :362]\n",
    "                # Save the modified DataFrame back to the dictionary\n",
    "                sheets_dict[sheet_name] = df\n",
    "\n",
    "            # Save the modified data back to the same Excel file\n",
    "            with pd.ExcelWriter(file_path) as writer:\n",
    "                for sheet_name, df in sheets_dict.items():\n",
    "                    df.to_excel(writer, sheet_name=sheet_name, index=False)\n",
    "                    \n",
    "\n",
    "def delete_processed_files(directory_path):\n",
    "    # Get the list of files in the directory\n",
    "    files_in_directory = os.listdir(directory_path)\n",
    "\n",
    "    # Filter the files to find those ending with '_processed.xlsx'\n",
    "    processed_files = [file for file in files_in_directory if file.endswith('_new_processed.xlsx')]\n",
    "\n",
    "    # Delete the filtered files\n",
    "    for file in processed_files:\n",
    "        os.remove(os.path.join(directory_path, file))\n",
    "        print(f\"Deleted: {file}\")\n"
   ]
  },
  {
   "cell_type": "markdown",
   "metadata": {},
   "source": [
    "## Attract Voltage and Discharge Capacity"
   ]
  },
  {
   "cell_type": "markdown",
   "metadata": {},
   "source": [
    "### Attract V,Qd,Qc"
   ]
  },
  {
   "cell_type": "code",
   "execution_count": 3,
   "metadata": {},
   "outputs": [],
   "source": [
    "input_directory_1 = '.../Data_raw/b1'\n",
    "output_directory_1 = '...//Data_raw/b1c'\n",
    "\n",
    "input_directory_2 = '...//Data_raw/b2'\n",
    "output_directory_2 ='...//Data_raw/b2c'\n",
    "\n",
    "input_directory_3 = '...//Data_raw/b3'\n",
    "output_directory_3 = '...//Data_raw/b3c'\n",
    "\n",
    "input_directory_9 = '...//Data_raw/b9'\n",
    "output_directory_9 = '...//Data_raw/b9c'\n",
    "\n",
    "process_all_files_in_directory(input_directory_1, output_directory_1)\n",
    "process_all_files_in_directory(input_directory_2, output_directory_2)\n",
    "process_all_files_in_directory(input_directory_3, output_directory_3)\n",
    "process_all_files_in_directory(input_directory_9, output_directory_9)\n",
    "\n"
   ]
  },
  {
   "cell_type": "markdown",
   "metadata": {},
   "source": [
    "### Process Batch B1\n",
    "This batch have some error data:\n",
    "1. make it clean first \n",
    "2. Pick out Voltage and Qd\n",
    "3. Delete all of the columm from 131th "
   ]
  },
  {
   "cell_type": "markdown",
   "metadata": {},
   "source": [
    "#### Rewrite"
   ]
  },
  {
   "cell_type": "code",
   "execution_count": null,
   "metadata": {},
   "outputs": [],
   "source": [
    "# Directory containing the Excel files\n",
    "directory = '...//Data_raw/b1c'\n",
    "\n",
    "# Iterate through each file in the directory\n",
    "for filename in os.listdir(directory):\n",
    "    if filename.endswith('.xlsx'):\n",
    "        file_path = os.path.join(directory, filename)\n",
    "        \n",
    "        # Load the workbook\n",
    "        wb = openpyxl.load_workbook(file_path)\n",
    "\n",
    "        # Iterate through each sheet\n",
    "        for sheet_name in wb.sheetnames:\n",
    "            sheet = wb[sheet_name]\n",
    "            \n",
    "            # Delete the first row after the header (assuming header is the first row)\n",
    "            sheet.delete_rows(2)  # Deletes the second row (first row after the header)\n",
    "\n",
    "        # Save the workbook (overwrites the original file)\n",
    "        wb.save(file_path)\n"
   ]
  },
  {
   "cell_type": "markdown",
   "metadata": {},
   "source": [
    "#### Generate to new path"
   ]
  },
  {
   "cell_type": "markdown",
   "metadata": {},
   "source": [
    "##### Delete first row"
   ]
  },
  {
   "cell_type": "code",
   "execution_count": 8,
   "metadata": {},
   "outputs": [],
   "source": [
    "import os\n",
    "import openpyxl\n",
    "\n",
    "# Directory containing the Excel files\n",
    "input_directory = '...//Data_raw/b1c'\n",
    "output_directory = '...//Data_raw/b1c_new'\n",
    "\n",
    "# Ensure the output directory exists\n",
    "os.makedirs(output_directory, exist_ok=True)\n",
    "\n",
    "# Iterate through each file in the directory\n",
    "for filename in os.listdir(input_directory):\n",
    "    if filename.endswith('.xlsx'):\n",
    "        file_path = os.path.join(input_directory, filename)\n",
    "        \n",
    "        # Load the workbook\n",
    "        wb = openpyxl.load_workbook(file_path)\n",
    "\n",
    "        # Iterate through each sheet\n",
    "        for sheet_name in wb.sheetnames:\n",
    "            sheet = wb[sheet_name]\n",
    "            \n",
    "            # Delete the first row after the header (assuming header is the first row)\n",
    "            sheet.delete_rows(2)  # Deletes the second row (first row after the header)\n",
    "\n",
    "        # Save the workbook to the output directory\n",
    "        output_file_path = os.path.join(output_directory, filename)\n",
    "        wb.save(output_file_path)\n"
   ]
  },
  {
   "cell_type": "markdown",
   "metadata": {},
   "source": [
    "##### Vmin < V < Vmax"
   ]
  },
  {
   "cell_type": "code",
   "execution_count": 3,
   "metadata": {},
   "outputs": [],
   "source": [
    "# Define the directory containing the Excel files\n",
    "input_directory_path = '...//Data_raw/b1c_new'\n",
    "output_directory_path = '...//3_Range_22-24/b1c_new'\n",
    "\n",
    "# Iterate over all Excel files in the directory and process them\n",
    "for filename in os.listdir(input_directory_path):\n",
    "    if filename.endswith('.xlsx') and not filename.endswith('_processed.xlsx') and not filename.endswith('_extended.xlsx'):\n",
    "        file_path = os.path.join(input_directory_path, filename)\n",
    "        process_file(file_path, output_directory_path)\n"
   ]
  },
  {
   "cell_type": "markdown",
   "metadata": {},
   "source": [
    "##### Delete processed file"
   ]
  },
  {
   "cell_type": "code",
   "execution_count": null,
   "metadata": {},
   "outputs": [],
   "source": [
    "b1c_new_path = '...//3_Range_22-24/b1c_new'\n",
    "delete_processed_files(b1c_new_path)"
   ]
  },
  {
   "cell_type": "markdown",
   "metadata": {},
   "source": [
    "##### Delete coluumn "
   ]
  },
  {
   "cell_type": "code",
   "execution_count": null,
   "metadata": {},
   "outputs": [],
   "source": [
    "# Define the directory containing the Excel files\n",
    "directory = '...//3_Range_22-24/b1c_new'\n",
    "\n",
    "# Iterate through each file in the directory\n",
    "for filename in os.listdir(directory):\n",
    "    if filename.endswith(\".xlsx\"):  # Process only Excel files\n",
    "        file_path = os.path.join(directory, filename)\n",
    "        excel_file = pd.ExcelFile(file_path)\n",
    "\n",
    "        # Initialize a dictionary to hold the modified dataframes\n",
    "        sheets_dict = {}\n",
    "\n",
    "        # Iterate through each sheet and modify it\n",
    "        for sheet_name in excel_file.sheet_names:\n",
    "            # Load the sheet into a DataFrame\n",
    "            df = pd.read_excel(file_path, sheet_name=sheet_name)\n",
    "            # Drop columns from 130th to the end\n",
    "            df = df.iloc[:, :362]\n",
    "            # Save the modified DataFrame back to the dictionary\n",
    "            sheets_dict[sheet_name] = df\n",
    "\n",
    "        # Save the modified data back to the same Excel file\n",
    "        with pd.ExcelWriter(file_path) as writer:\n",
    "            for sheet_name, df in sheets_dict.items():\n",
    "                df.to_excel(writer, sheet_name=sheet_name, index=False)\n",
    "\n",
    "print(\"Columns deleted and files saved successfully.\")\n"
   ]
  },
  {
   "cell_type": "markdown",
   "metadata": {},
   "source": [
    "### Process Batch 2, 3 and 9\n",
    "1. The battery will be discharge to the end and then charge back again to 20% -> clean the charge back proces\n",
    "2. Pick out Voltage and Qd\n",
    "3. Delete all of the columm for charge back"
   ]
  },
  {
   "cell_type": "markdown",
   "metadata": {},
   "source": [
    "##### Delete charge back"
   ]
  },
  {
   "cell_type": "code",
   "execution_count": 10,
   "metadata": {},
   "outputs": [
    {
     "name": "stdout",
     "output_type": "stream",
     "text": [
      "Processing complete.\n",
      "Processing complete.\n",
      "Processing complete.\n"
     ]
    }
   ],
   "source": [
    "input_clean_folder_2 = '...//Data_raw/b2c/'\n",
    "output_clean_folder_2 = '...//Data_raw/b2c_clean/'\n",
    "\n",
    "input_clean_folder_3 = '...//Data_raw/b3c/'\n",
    "output_clean_folder_3 = '...//Data_raw/b3c_clean/'\n",
    "\n",
    "input_clean_folder_9 = '...//Data_raw/b9c/'\n",
    "output_clean_folder_9 = '...//Data_raw/b9c_clean/'\n",
    "\n",
    "\n",
    "delete_columns_batch_2(input_clean_folder_2, output_clean_folder_2)\n",
    "delete_columns_batch_3_9(input_clean_folder_3, output_clean_folder_3)\n",
    "delete_columns_batch_3_9(input_clean_folder_9, output_clean_folder_9)"
   ]
  },
  {
   "cell_type": "markdown",
   "metadata": {},
   "source": [
    "##### Vmin < V < Vmax"
   ]
  },
  {
   "cell_type": "code",
   "execution_count": null,
   "metadata": {},
   "outputs": [],
   "source": [
    "# Define the directory containing the Excel files\n",
    "input_directory_path_2 = '...//Data_raw/b2c_clean/'\n",
    "output_directory_path_2 = '...//3_Range_22-24/b2c_new'\n",
    "\n",
    "input_directory_path_3 = '...//Data_raw/b3c_clean/'\n",
    "output_directory_path_3 = '...//3_Range_22-24/b3c_new'\n",
    "\n",
    "input_directory_path_9 = '...//Data_raw/b9c_clean/'\n",
    "output_directory_path_9 = '...//3_Range_22-24/b9c_new'\n",
    "\n",
    "def process_batch(input_directory_path, output_directory_path):\n",
    "    for filename in os.listdir(input_directory_path):\n",
    "        if filename.endswith('.xlsx') and not filename.endswith('_processed.xlsx') and not filename.endswith('_extended.xlsx'):\n",
    "            file_path = os.path.join(input_directory_path, filename)\n",
    "            process_file(file_path, output_directory_path)\n",
    "    print(f\"Folder {input_directory_path} processed successfully.\")\n",
    "    \n",
    "process_batch(input_directory_path_2, output_directory_path_2)\n",
    "process_batch(input_directory_path_3, output_directory_path_3)\n",
    "process_batch(input_directory_path_9, output_directory_path_9)"
   ]
  },
  {
   "cell_type": "markdown",
   "metadata": {},
   "source": [
    "##### Delete processed file"
   ]
  },
  {
   "cell_type": "code",
   "execution_count": null,
   "metadata": {},
   "outputs": [],
   "source": [
    "b2c_new_path = '...//3_Range_22-24/b2c_new'\n",
    "delete_processed_files(b2c_new_path)\n",
    "\n",
    "b3c_new_path = '...//3_Range_22-24/b3c_new'\n",
    "delete_processed_files(b3c_new_path)\n",
    "\n",
    "b9c_new_path = '...//3_Range_22-24/b9c_new'\n",
    "delete_processed_files(b9c_new_path)"
   ]
  },
  {
   "cell_type": "markdown",
   "metadata": {},
   "source": [
    "##### Delete coluumn"
   ]
  },
  {
   "cell_type": "code",
   "execution_count": 11,
   "metadata": {},
   "outputs": [],
   "source": [
    "import pandas as pd\n",
    "import os\n",
    "\n",
    "# Define the directory containing the Excel files\n",
    "directory_2 = '...//b2c_new'\n",
    "directory_3 = '...//b3c_new'\n",
    "directory_9 = '...//b9c_new'\n",
    "\n",
    "process_final_file(directory_2)\n",
    "process_final_file(directory_3)\n",
    "process_final_file(directory_9)\n"
   ]
  },
  {
   "cell_type": "code",
   "execution_count": null,
   "metadata": {},
   "outputs": [],
   "source": []
  }
 ],
 "metadata": {
  "kernelspec": {
   "display_name": "Python 3",
   "language": "python",
   "name": "python3"
  },
  "language_info": {
   "codemirror_mode": {
    "name": "ipython",
    "version": 3
   },
   "file_extension": ".py",
   "mimetype": "text/x-python",
   "name": "python",
   "nbconvert_exporter": "python",
   "pygments_lexer": "ipython3",
   "version": "3.11.5"
  }
 },
 "nbformat": 4,
 "nbformat_minor": 2
}
